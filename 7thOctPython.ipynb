{
 "cells": [
  {
   "cell_type": "code",
   "execution_count": 2,
   "id": "40c1e8a0",
   "metadata": {},
   "outputs": [
    {
     "name": "stdout",
     "output_type": "stream",
     "text": [
      "enter number :5\n",
      "Entered number is Odd\n"
     ]
    }
   ],
   "source": [
    "# Even OR Odd\n",
    "Num = int(input(\"enter number :\"))\n",
    "if(Num%2)==0:\n",
    "    print(\"Entered number is Even\")\n",
    "else:\n",
    "    print(\"Entered number is Odd\")"
   ]
  },
  {
   "cell_type": "code",
   "execution_count": 34,
   "id": "2eedf8ea",
   "metadata": {},
   "outputs": [
    {
     "name": "stdout",
     "output_type": "stream",
     "text": [
      "enter human age : 6\n",
      "dog age :  8 years\n"
     ]
    }
   ],
   "source": [
    "#Dog_Human\n",
    "h_age = int(input(\"enter human age : \"))\n",
    "d_age = 0\n",
    "if h_age<0:\n",
    "    print(\"negative value\")\n",
    "if(h_age>0):\n",
    "    print(\"dog age : \",h_age+2, \"years\")\n",
    "        "
   ]
  },
  {
   "cell_type": "code",
   "execution_count": 11,
   "id": "4da6a7e6",
   "metadata": {},
   "outputs": [
    {
     "name": "stdout",
     "output_type": "stream",
     "text": [
      "enter letter of the alphabet: r\n",
      "r is a consonant.\n"
     ]
    }
   ],
   "source": [
    "#aeiou\n",
    "a = input(\"enter letter of the alphabet: \")\n",
    "if a in('a','e','i','o','u'):\n",
    "     print(\"%s is a vowel.\" % a)\n",
    "elif a == 'y':\n",
    "    print(\"Sometimes the letter y stands for a vowel, sometimes for a consonant.\")\n",
    "else:\n",
    "    print(\"%s is a consonant.\" % a) "
   ]
  },
  {
   "cell_type": "code",
   "execution_count": 14,
   "id": "45fa7c76",
   "metadata": {},
   "outputs": [
    {
     "name": "stdout",
     "output_type": "stream",
     "text": [
      "enter the number of sides : 1\n",
      "number not support\n"
     ]
    }
   ],
   "source": [
    "#Shape names\n",
    "sides = int(input(\"enter the number of sides : \"))\n",
    "\n",
    "if sides == 3:\n",
    "    print(\"triangle\")\n",
    "elif sides == 4:\n",
    "     print(\"quadrilateral\")\n",
    "elif sides == 5:\n",
    "    print(\"pentagon\")\n",
    "elif sides == 6:\n",
    "      print( \"hexagon\")\n",
    "elif sides == 7:\n",
    "     print( \"heptagon\")\n",
    "elif sides == 8:\n",
    "       print( \"octagon\")\n",
    "elif sides == 9:\n",
    "      print( \"Nonagon\")\n",
    "elif sides == 10:\n",
    "     print( \"decagon\")\n",
    "else:\n",
    "    print(\"number not support\")\n",
    "    "
   ]
  },
  {
   "cell_type": "code",
   "execution_count": 15,
   "id": "e8679624",
   "metadata": {},
   "outputs": [
    {
     "name": "stdout",
     "output_type": "stream",
     "text": [
      "enter the name of Month: January\n",
      "No. of days: 31 day\n"
     ]
    }
   ],
   "source": [
    "#Month \n",
    "\n",
    "monthname = input(\"enter the name of Month: \")\n",
    "\n",
    "if monthname == 'February':\n",
    "\tprint('No. of days: 28 or29 days')\n",
    "elif monthname in ('April', 'June', 'September', 'November'):\n",
    "\tprint('No. of days: 30 days')\n",
    "elif monthname in ('January', 'March', 'May', 'July', 'August', 'October', 'December'):\n",
    "\tprint('No. of days: 31 day')\n",
    "else:\n",
    "\tprint('Error month name') "
   ]
  },
  {
   "cell_type": "code",
   "execution_count": 16,
   "id": "6fd3fbcf",
   "metadata": {},
   "outputs": [
    {
     "name": "stdout",
     "output_type": "stream",
     "text": [
      "Enter the number of decibels: 56\n",
      "Alarm clock\n"
     ]
    }
   ],
   "source": [
    "#Sound Level\n",
    "decibels = int(input(\"Enter the number of decibels: \"))\n",
    "if decibels > 0 and decibels <= 40:\n",
    "    print('Quiet room')\n",
    "elif decibels > 40 and decibels <= 70:\n",
    "    print('Alarm clock')\n",
    "elif decibels > 70 and decibels <= 106:\n",
    "    print('Gas lawnmower')\n",
    "elif decibels > 106 and decibels <= 130:\n",
    "    print('jackhammer')\n",
    "else:\n",
    "    print('entered number not in the list')"
   ]
  },
  {
   "cell_type": "code",
   "execution_count": 20,
   "id": "6bfea282",
   "metadata": {},
   "outputs": [
    {
     "name": "stdout",
     "output_type": "stream",
     "text": [
      "enter note : c4\n",
      "note: c4 frequency  261.63 Hz\n"
     ]
    }
   ],
   "source": [
    "#Musicnotes\n",
    "note = input('enter note : ')\n",
    "\n",
    "if note == \"C4\":\n",
    "    frequency = 261.63\n",
    "elif nota == \"D4\":\n",
    "    frequency = 293.66\n",
    "elif nota == \"E4\":\n",
    "    frequency = 329.63\n",
    "elif nota == \"F4\":\n",
    "    frequency = 349.23\n",
    "elif nota == \"G4\":\n",
    "    frequency = 392.00\n",
    "elif nota == \"A4\":\n",
    "    frequency = 440.00\n",
    "elif nota == \"B4\":\n",
    "    frequency = 493.88\n",
    "\n",
    "print('note:' ,note, 'frequency ',(frequency), 'Hz')"
   ]
  },
  {
   "cell_type": "code",
   "execution_count": 26,
   "id": "ec361acf",
   "metadata": {},
   "outputs": [
    {
     "name": "stdout",
     "output_type": "stream",
     "text": [
      "enter frequency : 349.23\n",
      "frequency : 349.23 Hz note  F4\n"
     ]
    }
   ],
   "source": [
    "#Reverse Musicnotes\n",
    "frequency = input('enter frequency : ')\n",
    "\n",
    "if frequency == \"261.63\":\n",
    "    note = \"C4\"\n",
    "elif frequency == \"293.66\":\n",
    "    note = \"D4\"\n",
    "elif frequency == \"329.63\":\n",
    "    note = \"E4\"\n",
    "elif frequency == \"349.23\":\n",
    "    note =\"F4\"\n",
    "elif frequency == \"392.00\":\n",
    "    note = \"G4\"\n",
    "elif frequency == \"440.00\":\n",
    "    note = \"A4\"\n",
    "elif frequency == \"493.88\":\n",
    "    note = \"B4\"\n",
    "else:\n",
    "    note ='not in the list'\n",
    "\n",
    "print('frequency :' ,frequency,'Hz' ' note ',note)"
   ]
  },
  {
   "cell_type": "code",
   "execution_count": 30,
   "id": "ddcc6133",
   "metadata": {},
   "outputs": [
    {
     "name": "stdout",
     "output_type": "stream",
     "text": [
      "Enter the number of wavelentgth: 626\n",
      "Red\n"
     ]
    }
   ],
   "source": [
    "#wavelentgth\n",
    "wavelentgth = int(input(\"Enter the number of wavelentgth: \"))\n",
    "if wavelentgth >= 380 and wavelentgth < 450:\n",
    "    print('Violet')\n",
    "elif wavelentgth >= 450 and wavelentgth < 495:\n",
    "    print('Blue')\n",
    "elif wavelentgth >= 495 and wavelentgth < 570:\n",
    "    print('Green')\n",
    "elif wavelentgth >= 570 and wavelentgth < 590:\n",
    "    print('Yellow')\n",
    "elif wavelentgth >= 590 and wavelentgth < 620:\n",
    "    print('Orange')\n",
    "elif wavelentgth >= 620 and wavelentgth <= 750:\n",
    "    print('Red')\n",
    "else:\n",
    "    print('entered Wavelength not in the Colours list')"
   ]
  },
  {
   "cell_type": "code",
   "execution_count": null,
   "id": "bb15a548",
   "metadata": {},
   "outputs": [],
   "source": []
  }
 ],
 "metadata": {
  "kernelspec": {
   "display_name": "Python 3 (ipykernel)",
   "language": "python",
   "name": "python3"
  },
  "language_info": {
   "codemirror_mode": {
    "name": "ipython",
    "version": 3
   },
   "file_extension": ".py",
   "mimetype": "text/x-python",
   "name": "python",
   "nbconvert_exporter": "python",
   "pygments_lexer": "ipython3",
   "version": "3.11.4"
  }
 },
 "nbformat": 4,
 "nbformat_minor": 5
}
